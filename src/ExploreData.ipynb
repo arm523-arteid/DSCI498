{
 "cells": [
  {
   "metadata": {},
   "cell_type": "markdown",
   "source": "Bring in all necessary packages",
   "id": "a7cba42c90d85a68"
  },
  {
   "cell_type": "code",
   "id": "initial_id",
   "metadata": {
    "collapsed": true,
    "ExecuteTime": {
     "end_time": "2025-03-02T23:00:12.610841Z",
     "start_time": "2025-03-02T23:00:10.328190Z"
    }
   },
   "source": [
    "import pandas as pd\n",
    "import matplotlib.pyplot as plt"
   ],
   "outputs": [],
   "execution_count": 37
  },
  {
   "metadata": {},
   "cell_type": "markdown",
   "source": "Load the patient data",
   "id": "ad7a3f5c0cfa7bb"
  },
  {
   "metadata": {
    "ExecuteTime": {
     "end_time": "2025-03-02T23:08:03.997686Z",
     "start_time": "2025-03-02T23:08:03.967624Z"
    }
   },
   "cell_type": "code",
   "source": "patients_all = pd.read_csv(r\"../data/processed/patients_all.csv\")",
   "id": "894ce857a2fb1f7c",
   "outputs": [],
   "execution_count": 52
  },
  {
   "metadata": {},
   "cell_type": "markdown",
   "source": "Explore the counts",
   "id": "db4f5f248b355713"
  },
  {
   "metadata": {
    "ExecuteTime": {
     "end_time": "2025-03-02T23:07:04.241134Z",
     "start_time": "2025-03-02T23:07:04.151611Z"
    }
   },
   "cell_type": "code",
   "source": [
    "unique_patients_by_state = patients_all.groupby(\"STATE\")[\"Id\"].nunique()\n",
    "#plot a bar chart\n",
    "ax = unique_patients_by_state.plot(kind=\"bar\", figsize=(5, 5))\n",
    "# Customize the plot\n",
    "plt.title(\"Number of Unique Patients by State\")\n",
    "plt.xlabel(\"State\")\n",
    "plt.ylabel(\"Number of Unique Patients\")\n",
    "plt.xticks(rotation=0)\n",
    "for bar in ax.patches:\n",
    "    height = bar.get_height()\n",
    "    ax.annotate(f'{height}',\n",
    "                xy=(bar.get_x() + bar.get_width() / 2, height),\n",
    "                xytext=(0, 3),\n",
    "                textcoords=\"offset points\",\n",
    "                ha='center', va='bottom')\n",
    "plt.show()"
   ],
   "id": "e2624b083471376f",
   "outputs": [
    {
     "data": {
      "text/plain": [
       "<Figure size 500x500 with 1 Axes>"
      ],
      "image/png": "[encoded data removed]"
     },
     "metadata": {},
     "output_type": "display_data"
    }
   ],
   "execution_count": 50
  },
  {
   "metadata": {
    "ExecuteTime": {
     "end_time": "2025-03-02T23:24:20.327751Z",
     "start_time": "2025-03-02T23:24:20.212073Z"
    }
   },
   "cell_type": "code",
   "source": [
    "# Define the desired order for the columns: the 5 states plus Total.\n",
    "states_order = [\"Pennsylvania\", \"Illinois\", \"Florida\", \"Texas\", \"California\", \"Total\"]\n",
    "\n",
    "# Helper function: given a DataFrame subset and a variable, returns counts and percentages.\n",
    "def categorical_summary(sub_df, var):\n",
    "    counts = sub_df[var].value_counts(dropna=False)\n",
    "    percents = sub_df[var].value_counts(normalize=True, dropna=False) * 100\n",
    "    summary = counts.astype(str) + \" (\" + percents.round(1).astype(str) + \"%)\"\n",
    "    return summary\n",
    "\n",
    "def summarize_categorical(var):\n",
    "    summaries = {}\n",
    "    for state in [\"Pennsylvania\", \"Illinois\", \"Florida\", \"Texas\", \"California\"]:\n",
    "        sub = patients_all[patients_all[\"STATE\"] == state]\n",
    "        summaries[state] = categorical_summary(sub, var)\n",
    "    # Overall summary\n",
    "    summaries[\"Total\"] = categorical_summary(patients_all, var)\n",
    "\n",
    "    # Combine the state summaries into a DataFrame.\n",
    "    df_summary = pd.DataFrame(summaries)\n",
    "    # Reorder columns.\n",
    "    df_summary = df_summary[states_order]\n",
    "    return df_summary\n",
    "\n",
    "def summarize_continuous(var):\n",
    "    # List of stats to include\n",
    "    stats = [\"count\", \"mean\", \"median\", \"std\", \"min\", \"max\"]\n",
    "    summary_dict = {}\n",
    "    for state in [\"Pennsylvania\", \"Illinois\", \"Florida\", \"Texas\", \"California\"]:\n",
    "        sub = patients_all[patients_all[\"STATE\"] == state]\n",
    "        s = sub[var].describe()\n",
    "        summary_dict[state] = [sub[var].count(), s[\"mean\"], sub[var].median(), s[\"std\"], s[\"min\"], s[\"max\"]]\n",
    "    # Overall totals:\n",
    "    s_total = patients_all[var].describe()\n",
    "    summary_dict[\"Total\"] = [patients_all[var].count(), patients_all[var].mean(), patients_all[var].median(),\n",
    "                             patients_all[var].std(), patients_all[var].min(), patients_all[var].max()]\n",
    "\n",
    "    df_summary = pd.DataFrame(summary_dict, index=stats)\n",
    "    df_summary = df_summary[states_order]\n",
    "    return df_summary\n",
    "\n",
    "def summarize_death():\n",
    "    # For DEATHDATE, count non-missing values as \"dead\"\n",
    "    summary = {}\n",
    "    for state in [\"Pennsylvania\", \"Illinois\", \"Florida\", \"Texas\", \"California\"]:\n",
    "        sub = patients_all[patients_all[\"STATE\"] == state]\n",
    "        summary[state] = sub[\"DEATHDATE\"].notnull().sum()\n",
    "    summary[\"Total\"] = patients_all[\"DEATHDATE\"].notnull().sum()\n",
    "    df_summary = pd.DataFrame(summary, index=[\"Dead Count\"])\n",
    "    df_summary = df_summary[states_order]\n",
    "    return df_summary\n",
    "\n",
    "# Now, produce and print the summary tables.\n",
    "\n",
    "print(\"Marital Status Summary:\")\n",
    "summary_marital = summarize_categorical(\"MARITAL\")\n",
    "print(summary_marital, \"\\n\")\n",
    "\n",
    "print(\"Race Summary:\")\n",
    "summary_race = summarize_categorical(\"RACE\")\n",
    "print(summary_race, \"\\n\")\n",
    "\n",
    "print(\"Ethnicity Summary:\")\n",
    "summary_ethnicity = summarize_categorical(\"ETHNICITY\")\n",
    "print(summary_ethnicity, \"\\n\")\n",
    "\n",
    "print(\"Gender Summary:\")\n",
    "summary_gender = summarize_categorical(\"GENDER\")\n",
    "print(summary_gender, \"\\n\")\n",
    "\n",
    "print(\"Income Summary (Continuous Variable):\")\n",
    "summary_income = summarize_continuous(\"INCOME\")\n",
    "print(summary_income, \"\\n\")\n",
    "\n",
    "print(\"Death (Dead Count) Summary:\")\n",
    "summary_death = summarize_death()\n",
    "print(summary_death, \"\\n\")\n"
   ],
   "id": "4dbf15a2f02375c1",
   "outputs": [
    {
     "name": "stdout",
     "output_type": "stream",
     "text": [
      "Marital Status Summary:\n",
      "         Pennsylvania     Illinois       Florida        Texas   California  \\\n",
      "MARITAL                                                                      \n",
      "D         253 (10.6%)   236 (9.9%)   244 (10.1%)   204 (9.0%)   205 (8.9%)   \n",
      "M        1010 (42.1%)  982 (41.3%)  1044 (43.2%)  851 (37.7%)  907 (39.3%)   \n",
      "S         339 (14.1%)  313 (13.2%)   329 (13.6%)  281 (12.5%)  311 (13.5%)   \n",
      "W           66 (2.8%)    68 (2.9%)     92 (3.8%)    70 (3.1%)    55 (2.4%)   \n",
      "NaN       730 (30.4%)  780 (32.8%)   706 (29.2%)  851 (37.7%)  828 (35.9%)   \n",
      "\n",
      "                Total  \n",
      "MARITAL                \n",
      "D         1142 (9.7%)  \n",
      "M        4794 (40.8%)  \n",
      "S        1573 (13.4%)  \n",
      "W          351 (3.0%)  \n",
      "NaN      3895 (33.1%)   \n",
      "\n",
      "Race Summary:\n",
      "          Pennsylvania      Illinois       Florida         Texas  \\\n",
      "RACE                                                               \n",
      "asian        78 (3.3%)    115 (4.8%)     51 (2.1%)    102 (4.5%)   \n",
      "black      278 (11.6%)   356 (15.0%)   408 (16.9%)   270 (12.0%)   \n",
      "hawaiian     21 (0.9%)     24 (1.0%)     17 (0.7%)     20 (0.9%)   \n",
      "native        6 (0.3%)     13 (0.5%)      9 (0.4%)     19 (0.8%)   \n",
      "other        34 (1.4%)     23 (1.0%)     24 (1.0%)     22 (1.0%)   \n",
      "white     1981 (82.6%)  1848 (77.7%)  1906 (78.9%)  1824 (80.8%)   \n",
      "\n",
      "            California         Total  \n",
      "RACE                                  \n",
      "asian      344 (14.9%)    690 (5.9%)  \n",
      "black       168 (7.3%)  1480 (12.6%)  \n",
      "hawaiian     57 (2.5%)    139 (1.2%)  \n",
      "native       37 (1.6%)     84 (0.7%)  \n",
      "other        42 (1.8%)    145 (1.2%)  \n",
      "white     1658 (71.9%)  9217 (78.4%)   \n",
      "\n",
      "Ethnicity Summary:\n",
      "             Pennsylvania      Illinois       Florida         Texas  \\\n",
      "ETHNICITY                                                             \n",
      "nonhispanic  2237 (93.3%)  1980 (83.2%)  1751 (72.5%)  1332 (59.0%)   \n",
      "hispanic       161 (6.7%)   399 (16.8%)   664 (27.5%)   925 (41.0%)   \n",
      "\n",
      "               California         Total  \n",
      "ETHNICITY                                \n",
      "nonhispanic  1414 (61.3%)  8714 (74.1%)  \n",
      "hispanic      892 (38.7%)  3041 (25.9%)   \n",
      "\n",
      "Gender Summary:\n",
      "        Pennsylvania      Illinois       Florida         Texas    California  \\\n",
      "GENDER                                                                         \n",
      "M       1206 (50.3%)  1237 (52.0%)  1248 (51.7%)  1182 (52.4%)  1162 (50.4%)   \n",
      "F       1192 (49.7%)  1142 (48.0%)  1167 (48.3%)  1075 (47.6%)  1144 (49.6%)   \n",
      "\n",
      "               Total  \n",
      "GENDER                \n",
      "M       6035 (51.3%)  \n",
      "F       5720 (48.7%)   \n",
      "\n",
      "Income Summary (Continuous Variable):\n",
      "         Pennsylvania       Illinois        Florida          Texas  \\\n",
      "count     2398.000000    2379.000000    2415.000000    2257.000000   \n",
      "mean     78455.615930   90360.867171   83772.296894   81469.180771   \n",
      "median   50307.000000   54551.000000   49122.000000   50966.000000   \n",
      "std     114247.039685  142104.757914  136447.062784  123230.054269   \n",
      "min        177.000000     128.000000      94.000000     120.000000   \n",
      "max     974788.000000  994789.000000  998410.000000  995231.000000   \n",
      "\n",
      "           California          Total  \n",
      "count     2306.000000   11755.000000  \n",
      "mean    112570.651344   89228.330923  \n",
      "median   61577.500000   53250.000000  \n",
      "std     173856.171370  139862.457381  \n",
      "min         20.000000      20.000000  \n",
      "max     987364.000000  998410.000000   \n",
      "\n",
      "Death (Dead Count) Summary:\n",
      "            Pennsylvania  Illinois  Florida  Texas  California  Total\n",
      "Dead Count           398       379      415    257         306   1755 \n",
      "\n"
     ]
    }
   ],
   "execution_count": 55
  }
 ],
 "metadata": {
  "kernelspec": {
   "display_name": "Python 3",
   "language": "python",
   "name": "python3"
  },
  "language_info": {
   "codemirror_mode": {
    "name": "ipython",
    "version": 2
   },
   "file_extension": ".py",
   "mimetype": "text/x-python",
   "name": "python",
   "nbconvert_exporter": "python",
   "pygments_lexer": "ipython2",
   "version": "2.7.6"
  }
 },
 "nbformat": 4,
 "nbformat_minor": 5
}
